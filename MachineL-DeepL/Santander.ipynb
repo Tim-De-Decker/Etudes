{
 "cells": [
  {
   "cell_type": "markdown",
   "id": "822cad86",
   "metadata": {},
   "source": [
    "_Ce notebook présente une démarche complète de machine learning sur un dataset imposé: préparation des données, ajustement de plusieurs modèles, validation croisée et sélection de modèle_"
   ]
  },
  {
   "cell_type": "markdown",
   "id": "36f41ebd",
   "metadata": {},
   "source": [
    "# Machine Learning"
   ]
  },
  {
   "cell_type": "code",
   "execution_count": 263,
   "id": "e722d620",
   "metadata": {},
   "outputs": [],
   "source": [
    "import pandas as pd\n",
    "import numpy as np\n",
    "import matplotlib.pyplot as plt\n",
    "\n",
    "from sklearn.model_selection import train_test_split, cross_val_score, GridSearchCV\n",
    "from sklearn.feature_selection import mutual_info_regression, SelectKBest\n",
    "from sklearn.ensemble import RandomForestRegressor, GradientBoostingRegressor\n",
    "from sklearn.linear_model import Lasso\n",
    "from sklearn.decomposition import PCA\n",
    "from sklearn.metrics import mean_absolute_error as mae"
   ]
  },
  {
   "cell_type": "code",
   "execution_count": 264,
   "id": "fd8812ea",
   "metadata": {},
   "outputs": [],
   "source": [
    "np.random.seed(8184)"
   ]
  },
  {
   "cell_type": "markdown",
   "id": "720f04bb",
   "metadata": {},
   "source": [
    "## Les données"
   ]
  },
  {
   "cell_type": "markdown",
   "id": "b644ada9",
   "metadata": {},
   "source": [
    "### Présentation et importation"
   ]
  },
  {
   "cell_type": "markdown",
   "id": "1f83f2ea",
   "metadata": {},
   "source": [
    "Les données qui nous ont été confiées proviennent du site [Kaggle](https://www.kaggle.com/competitions/santander-value-prediction-challenge/overview) et ont été déposées par la banque __Santander__.\n",
    "\n",
    "Le challenge associé à ce jeu de données consistait à prédire la valeur des transactions de clients anonymisés (variable _target_) en fonction d'un grand nombre de variables elles aussi anonymisées.\n",
    "\n",
    "__Note importante :__ nos résultats sur ce jeu de données sont très en-deça des meilleurs scores de prédiction obtenus sur Kaggle, la raison étant que ces données nécessitent en réalité d'être décodées selon une logique particulière découverte de façon collaborative par les kagglers lorsque le challenge était encore actif. Ici nous faisons l'économie de ce décodage, le but de l'exercice étant davantage de mettre en oeuvre une démarche de machine learning cohérente que d'obtenir des prédictions de grande qualité."
   ]
  },
  {
   "cell_type": "code",
   "execution_count": 265,
   "id": "66fb5693",
   "metadata": {},
   "outputs": [],
   "source": [
    "data = pd.read_csv('train.csv', index_col='ID')"
   ]
  },
  {
   "cell_type": "code",
   "execution_count": 266,
   "id": "3426096a",
   "metadata": {
    "scrolled": true
   },
   "outputs": [
    {
     "name": "stdout",
     "output_type": "stream",
     "text": [
      "               target  48df886f9  0deb4b6a8  34b15f335  a8cb14b00  2f0771a37  \\\n",
      "ID                                                                             \n",
      "000d6aaf2  38000000.0        0.0          0        0.0          0          0   \n",
      "000fbd867    600000.0        0.0          0        0.0          0          0   \n",
      "0027d6b71  10000000.0        0.0          0        0.0          0          0   \n",
      "0028cbf45   2000000.0        0.0          0        0.0          0          0   \n",
      "002a68644  14400000.0        0.0          0        0.0          0          0   \n",
      "002dbeb22   2800000.0        0.0          0        0.0          0          0   \n",
      "003925ac6    164000.0        0.0          0        0.0          0          0   \n",
      "003eb0261    600000.0        0.0          0        0.0          0          0   \n",
      "004b92275    979000.0        0.0          0        0.0          0          0   \n",
      "0067b4fef    460000.0        0.0          0        0.0          0          0   \n",
      "\n",
      "           30347e683  d08d1fbe3  6ee66e115   20aa07010  ...  3ecc09859  \\\n",
      "ID                                                      ...              \n",
      "000d6aaf2          0          0          0         0.0  ...        0.0   \n",
      "000fbd867          0          0          0   2200000.0  ...        0.0   \n",
      "0027d6b71          0          0          0         0.0  ...        0.0   \n",
      "0028cbf45          0          0          0         0.0  ...        0.0   \n",
      "002a68644          0          0          0   2000000.0  ...        0.0   \n",
      "002dbeb22          0          0          0  17020000.0  ...    12000.0   \n",
      "003925ac6          0          0          0         0.0  ...        0.0   \n",
      "003eb0261          0          0          0         0.0  ...        0.0   \n",
      "004b92275          0          0          0     58000.0  ...        0.0   \n",
      "0067b4fef          0          0          0         0.0  ...        0.0   \n",
      "\n",
      "           9281abeea   8675bec0b  3a13ed79a  f677d4d13  71b203550  137efaa80  \\\n",
      "ID                                                                             \n",
      "000d6aaf2        0.0         0.0          0          0          0          0   \n",
      "000fbd867        0.0         0.0          0          0          0          0   \n",
      "0027d6b71        0.0         0.0          0          0          0          0   \n",
      "0028cbf45        0.0         0.0          0          0          0          0   \n",
      "002a68644        0.0         0.0          0          0          0          0   \n",
      "002dbeb22  5600000.0  20000000.0          0          0          0          0   \n",
      "003925ac6        0.0         0.0          0          0          0      40000   \n",
      "003eb0261        0.0         0.0          0          0          0          0   \n",
      "004b92275        0.0   4000000.0          0          0          0          0   \n",
      "0067b4fef        0.0         0.0          0          0          0          0   \n",
      "\n",
      "           fb36b89d9  7e293fbaf  9fc776466  \n",
      "ID                                          \n",
      "000d6aaf2          0          0          0  \n",
      "000fbd867          0          0          0  \n",
      "0027d6b71          0          0          0  \n",
      "0028cbf45          0          0          0  \n",
      "002a68644          0          0          0  \n",
      "002dbeb22          0          0      11000  \n",
      "003925ac6          0          0          0  \n",
      "003eb0261          0          0          0  \n",
      "004b92275          0          0          0  \n",
      "0067b4fef          0          0     400000  \n",
      "\n",
      "[10 rows x 4992 columns]\n"
     ]
    }
   ],
   "source": [
    "print(data.head(10))"
   ]
  },
  {
   "cell_type": "code",
   "execution_count": 267,
   "id": "3c3ee03b",
   "metadata": {},
   "outputs": [
    {
     "data": {
      "text/plain": [
       "(4459, 4992)"
      ]
     },
     "execution_count": 267,
     "metadata": {},
     "output_type": "execute_result"
    }
   ],
   "source": [
    "data.shape"
   ]
  },
  {
   "cell_type": "markdown",
   "id": "644d1c09",
   "metadata": {},
   "source": [
    "Le jeu de données contient __4992__ variables observées pour __4459__ clients.\n",
    "\n",
    "Ceci implique que le problème à traiter est en grande dimension ($p$ le nombre de variables est proche de $n$ le nombre d'observations).\n",
    "\n",
    "Il faudra par conséquent recourir à une technique de réduction de la dimension."
   ]
  },
  {
   "cell_type": "markdown",
   "id": "87c1a9dd",
   "metadata": {},
   "source": [
    "### Variable cible"
   ]
  },
  {
   "cell_type": "markdown",
   "id": "f5a43b9c",
   "metadata": {},
   "source": [
    "La variable cible est quantitative, on se trouve donc en présence d'un problème de régression."
   ]
  },
  {
   "cell_type": "code",
   "execution_count": 268,
   "id": "f65a2d4a",
   "metadata": {},
   "outputs": [
    {
     "data": {
      "text/plain": [
       "count    4.459000e+03\n",
       "mean     5.944923e+06\n",
       "std      8.234312e+06\n",
       "min      3.000000e+04\n",
       "25%      6.000000e+05\n",
       "50%      2.260000e+06\n",
       "75%      8.000000e+06\n",
       "max      4.000000e+07\n",
       "Name: target, dtype: float64"
      ]
     },
     "execution_count": 268,
     "metadata": {},
     "output_type": "execute_result"
    }
   ],
   "source": [
    "data.target.describe()"
   ]
  },
  {
   "cell_type": "markdown",
   "id": "e35d0866",
   "metadata": {},
   "source": [
    "### Variables explicatives"
   ]
  },
  {
   "cell_type": "markdown",
   "id": "8ed67ab0",
   "metadata": {},
   "source": [
    "Les premières lignes du jeu de données ont montré la présence d'un grand nombre de zéros dans chaque colonne.\n",
    "\n",
    "Les lignes suivantes montrent que seulement 5% des variables ont au moins 10% de valeurs non-nulles."
   ]
  },
  {
   "cell_type": "code",
   "execution_count": 269,
   "id": "d812dd43",
   "metadata": {},
   "outputs": [
    {
     "data": {
      "text/plain": [
       "ID\n",
       "6726fff18    1989\n",
       "d94655f86    1971\n",
       "1df3ca92e    1957\n",
       "d8e48b069    1935\n",
       "24204cd10    1907\n",
       "             ... \n",
       "08cb967e3       1\n",
       "511749abd       1\n",
       "4cd26c425       1\n",
       "b81878d2f       1\n",
       "83a3de795       1\n",
       "Length: 4459, dtype: int64"
      ]
     },
     "execution_count": 269,
     "metadata": {},
     "output_type": "execute_result"
    }
   ],
   "source": [
    "data.iloc[:, 1:].astype(bool).sum(axis=1).sort_values(ascending=False)"
   ]
  },
  {
   "cell_type": "code",
   "execution_count": 270,
   "id": "0c97a36e",
   "metadata": {},
   "outputs": [
    {
     "name": "stdout",
     "output_type": "stream",
     "text": [
      "Proportion de variables contenant au moins 10% de valeurs non nulles : 5.5%\n"
     ]
    }
   ],
   "source": [
    "print(f\"Proportion de variables contenant au moins 10% de valeurs non nulles : {round(np.sum(data.iloc[:, 1:].astype(bool).sum(axis=1) >= len(data)*0.1)/len(data)*100, 1)}%\")"
   ]
  },
  {
   "cell_type": "code",
   "execution_count": 271,
   "id": "f775b79a",
   "metadata": {},
   "outputs": [
    {
     "data": {
      "text/plain": [
       "<AxesSubplot:>"
      ]
     },
     "execution_count": 271,
     "metadata": {},
     "output_type": "execute_result"
    },
    {
     "data": {
      "image/png": "[encoded data removed]",
      "text/plain": [
       "<Figure size 432x288 with 1 Axes>"
      ]
     },
     "metadata": {
      "needs_background": "light"
     },
     "output_type": "display_data"
    }
   ],
   "source": [
    "# Nombre de valeurs non nulles par colonne\n",
    "data.iloc[:, 1:].astype(bool).sum(axis=1).sort_values(ascending=False).plot(use_index=False)"
   ]
  },
  {
   "cell_type": "markdown",
   "id": "51a63b98",
   "metadata": {},
   "source": [
    "### Pré-traitement des données"
   ]
  },
  {
   "cell_type": "markdown",
   "id": "b251dcd2",
   "metadata": {},
   "source": [
    "Pour des raisons de lisibilité, on divise toutes les valeurs par $10^6$."
   ]
  },
  {
   "cell_type": "code",
   "execution_count": 272,
   "id": "cb18ea25",
   "metadata": {},
   "outputs": [],
   "source": [
    "data = data/10**6"
   ]
  },
  {
   "cell_type": "markdown",
   "id": "621b215d",
   "metadata": {},
   "source": [
    "On sépare ensuite nos données entre _features_ et _target_."
   ]
  },
  {
   "cell_type": "code",
   "execution_count": 273,
   "id": "ef1fd417",
   "metadata": {},
   "outputs": [],
   "source": [
    "X = data.iloc[:, 1:]\n",
    "y = data.target"
   ]
  },
  {
   "cell_type": "markdown",
   "id": "80ab49a5",
   "metadata": {},
   "source": [
    "On procède à une analyse en composantes principales afin de réduire la dimension de nos données.\n",
    "\n",
    "Les variables initiales sont ainsi remplacées par des variables synthétiques appelées composantes, chacune correspondant à une combinaison linéaire des premières.\n",
    "\n",
    "Plutôt que de déterminer en amont un nombre donné de composantes, on fait en sorte de retenir les plus importantes jusqu'à rendre compte de 70% de la variance observée dans les données (argument _n\\_components = 0.7_).\n",
    "\n",
    "On obtient finalement un dataset contenant 72 variables au lieu de 4992 précédemment."
   ]
  },
  {
   "cell_type": "code",
   "execution_count": 274,
   "id": "17600ad0",
   "metadata": {},
   "outputs": [
    {
     "data": {
      "text/plain": [
       "array([[-15.24573702,  -0.55002431,  -0.36375228, ...,   6.98820357,\n",
       "          5.69765718,  -2.74241481],\n",
       "       [-21.47430351,  -0.70142301,  -0.39938808, ...,   0.50034667,\n",
       "         -7.04504471,  -4.03360171],\n",
       "       [-29.0711814 ,  -0.7491836 ,  -0.47124769, ...,  -0.66293498,\n",
       "          1.23419815,   0.23046207],\n",
       "       ...,\n",
       "       [ 31.70553188,  -0.89457171,  -0.57463577, ..., -10.71196731,\n",
       "         18.52930087,  25.09003741],\n",
       "       [-27.47296515,  -0.74772298,  -0.4718817 , ...,  -0.53196713,\n",
       "          1.93718608,   0.34904242],\n",
       "       [ -0.38684198,  -0.93440869,  -0.56083976, ...,   0.9907178 ,\n",
       "          0.47078255,   0.24363931]])"
      ]
     },
     "execution_count": 274,
     "metadata": {},
     "output_type": "execute_result"
    }
   ],
   "source": [
    "acp = PCA(n_components=0.7, svd_solver='full')\n",
    "X_acp = acp.fit_transform(X)\n",
    "X_acp"
   ]
  },
  {
   "cell_type": "code",
   "execution_count": 275,
   "id": "dc2b5054",
   "metadata": {},
   "outputs": [
    {
     "data": {
      "text/plain": [
       "(4459, 72)"
      ]
     },
     "execution_count": 275,
     "metadata": {},
     "output_type": "execute_result"
    }
   ],
   "source": [
    "X_acp.shape"
   ]
  },
  {
   "cell_type": "markdown",
   "id": "656c8e0a",
   "metadata": {},
   "source": [
    "Le jeu de données ainsi transformé est ensuite séparé en ensemble d'apprentissage et ensemble de test."
   ]
  },
  {
   "cell_type": "code",
   "execution_count": 276,
   "id": "5aac78a3",
   "metadata": {},
   "outputs": [],
   "source": [
    "X_train, X_test, y_train, y_test = train_test_split(X_acp, y, random_state=42)"
   ]
  },
  {
   "cell_type": "markdown",
   "id": "f8630c4b",
   "metadata": {},
   "source": [
    "## Comparaison de modèles et optimisation des hyperparamètres"
   ]
  },
  {
   "cell_type": "markdown",
   "id": "9994c156",
   "metadata": {},
   "source": [
    "Après avoir testé de nombreux modèles à la main, nous avons décidé d'en retenir trois : \n",
    "- la régression Lasso qui nous servira de base; \n",
    "- la forêt aléatoire ;\n",
    "- le boost de gradient.\n",
    "\n",
    "Pour chacun de ces modèles, nous allons procéder à une validation-croisée afin de débusquer les meilleurs valeurs de paramètres et d'obtenir un score sur la base duquel comparer la qualité des prédictions obtenues."
   ]
  },
  {
   "cell_type": "markdown",
   "id": "5f98ef9b",
   "metadata": {},
   "source": [
    "### Régression Lasso"
   ]
  },
  {
   "cell_type": "markdown",
   "id": "a0932a21",
   "metadata": {},
   "source": [
    "La régression Lasso consiste à appliquer une pénalité L1 à la fonction de perte du modèle de régression linéaire multiple.\n",
    "Cette pénalité permet d'adapter les coefficients $\\beta$ de la régression en fonction de l'importance des variables explicatives."
   ]
  },
  {
   "cell_type": "markdown",
   "id": "3c7886a6",
   "metadata": {},
   "source": [
    "La pénalité est associée à un paramètre exogène $\\alpha$ qu'il s'agit d'optimiser. On commence par visualiser l'évolution du $R^2$ en faisant évoluer $\\alpha$ de 0 à 10 avec un pas de 0.1."
   ]
  },
  {
   "cell_type": "code",
   "execution_count": 277,
   "id": "57422573",
   "metadata": {},
   "outputs": [
    {
     "data": {
      "text/plain": [
       "[<matplotlib.lines.Line2D at 0x19703b9f910>]"
      ]
     },
     "execution_count": 277,
     "metadata": {},
     "output_type": "execute_result"
    },
    {
     "data": {
      "image/png": "[encoded data removed]",
      "text/plain": [
       "<Figure size 432x288 with 1 Axes>"
      ]
     },
     "metadata": {
      "needs_background": "light"
     },
     "output_type": "display_data"
    }
   ],
   "source": [
    "scores = {}\n",
    "for alpha in np.arange(.1, 10, .1):\n",
    "    lasso = Lasso(alpha)\n",
    "    lasso.fit(X_train, y_train)\n",
    "    y_pred = lasso.predict(X_test)\n",
    "    scores[round(alpha, 1)] = lasso.score(X_test, y_test)\n",
    "plt.plot(scores.keys(), scores.values())"
   ]
  },
  {
   "cell_type": "markdown",
   "id": "d0d84d6c",
   "metadata": {},
   "source": [
    "Constatant que le $R^2$ maximum est obtenu sur nos données de test pour un alpha compris entre 4 et 5, on procède à une validation croisée sur nos données d'apprentissage découpées en 10 plis : le modèle est successivement ajusté sur 9 plis puis la qualité de la prédiction est testé sur le pli restant."
   ]
  },
  {
   "cell_type": "code",
   "execution_count": 278,
   "id": "a03710f1",
   "metadata": {},
   "outputs": [
    {
     "name": "stdout",
     "output_type": "stream",
     "text": [
      "\n",
      "R2 moyen maximal : 0.12883213255733864 \tAtteint pour alpha = 4.66\n"
     ]
    }
   ],
   "source": [
    "scores = {}\n",
    "\n",
    "for alpha in np.arange(4, 5, 0.01):\n",
    "    score_lasso = cross_val_score(Lasso(alpha),\n",
    "                                   X_train,\n",
    "                                   y_train,\n",
    "                                   cv=10,\n",
    "                                   scoring='r2')\n",
    "    scores[round(alpha, 2)] = np.mean(score_lasso)\n",
    "    \n",
    "print(f'\\nR2 moyen maximal : {max(scores.values())} \\tAtteint pour alpha = {max(scores, key=scores.get)}')"
   ]
  },
  {
   "cell_type": "markdown",
   "id": "6977f56f",
   "metadata": {},
   "source": [
    "Le meilleur score est obtenu pour $\\alpha = 4.66$ et nous indique qu'en moyenne, le modèle employé avec cette valeur d'hyperparamètre explique 12.9% de la variation observée dans la variable cible."
   ]
  },
  {
   "cell_type": "markdown",
   "id": "1080f308",
   "metadata": {},
   "source": [
    "### Forêt aléatoire"
   ]
  },
  {
   "cell_type": "markdown",
   "id": "61a494b8",
   "metadata": {},
   "source": [
    "On procède de la même manière avec le modèle de _random forest_ en optimisant le paramètre _max\\_features_ qui indique quelle proportion des variables présentes dans le dataset doit être sélectionné à chaque ajustement d'un nouvel arbre de décision."
   ]
  },
  {
   "cell_type": "code",
   "execution_count": 279,
   "id": "adf35e9a",
   "metadata": {},
   "outputs": [
    {
     "name": "stdout",
     "output_type": "stream",
     "text": [
      "\n",
      "R2 moyen maximal : 0.2051234573175102 \tAtteint pour max_features = 0.4 et n_estimators = 100\n"
     ]
    }
   ],
   "source": [
    "grid = {'n_estimators': [100], # plusieurs valeurs ont été testées, on ne conserve que la meilleure ici pour accélérer l'exécution\n",
    "       'max_features' : [.1, .2, .3, .4, .5, .6, .7, .8, .9, 1]}\n",
    "\n",
    "rfCross = GridSearchCV(estimator=RandomForestRegressor(),\n",
    "                         param_grid=grid,\n",
    "                         scoring='r2',\n",
    "                         n_jobs=-1,\n",
    "                         cv=10\n",
    "                        )\n",
    "\n",
    "rfCross.fit(X_train, y_train)\n",
    "\n",
    "print(f\"\\nR2 moyen maximal : {rfCross.best_score_} \\tAtteint pour max_features = {rfCross.best_params_['max_features']} et n_estimators = {rfCross.best_params_['n_estimators']}\")"
   ]
  },
  {
   "cell_type": "markdown",
   "id": "3f76d952",
   "metadata": {},
   "source": [
    "Pour max_features = 0.4, on constate une amélioration du $R^2$ par rapport au modèle précédent puisque c'est désormais près de 20.5% de la variance qui est expliquée par le modèle."
   ]
  },
  {
   "cell_type": "markdown",
   "id": "fdd5cdf1",
   "metadata": {},
   "source": [
    "### Boosting de gradient"
   ]
  },
  {
   "cell_type": "code",
   "execution_count": null,
   "id": "a710ed3e",
   "metadata": {},
   "outputs": [],
   "source": [
    "grid = {'max_features' : [.1, .2, .3, .4, .5, .6, .7, .8, .9, 1],\n",
    "        'learning_rate' : np.arange(.05, 0.15, .01)}\n",
    "\n",
    "gbCross = GridSearchCV(estimator=GradientBoostingRegressor(),\n",
    "                         param_grid=grid,\n",
    "                         scoring='r2',\n",
    "                         n_jobs=-1,\n",
    "                         cv=10\n",
    "                        )\n",
    "\n",
    "gbCross.fit(X_train, y_train)\n",
    "\n",
    "print(f\"\\nR2 moyen maximal : {gbCross.best_score_} \\tAtteint pour max_features = {gbCross.best_params_['max_features']} et learning_rate = {gbCross.best_params_['learning_rate']}\")"
   ]
  },
  {
   "cell_type": "markdown",
   "id": "e10596ff",
   "metadata": {},
   "source": [
    "Le score obtenu est légérement inférieur à celui du modèle de forêt aléatoire."
   ]
  },
  {
   "cell_type": "markdown",
   "id": "a68ab877",
   "metadata": {},
   "source": [
    "__Le modèle de random forest est donc retenu avec l'hyperparamètre optimal max_features=0.4.__"
   ]
  },
  {
   "cell_type": "markdown",
   "id": "e0abd45a",
   "metadata": {},
   "source": [
    "## Application du meilleur modèle à l'ensemble de test"
   ]
  },
  {
   "cell_type": "code",
   "execution_count": 286,
   "id": "195356a0",
   "metadata": {},
   "outputs": [
    {
     "data": {
      "text/plain": [
       "0.24736531444994891"
      ]
     },
     "execution_count": 286,
     "metadata": {},
     "output_type": "execute_result"
    }
   ],
   "source": [
    "rf = RandomForestRegressor(max_features=0.4)\n",
    "rf.fit(X_train, y_train)\n",
    "rf.score(X_test, y_test)"
   ]
  },
  {
   "cell_type": "code",
   "execution_count": 287,
   "id": "9de9ceae",
   "metadata": {},
   "outputs": [
    {
     "data": {
      "text/plain": [
       "4.94474303603988"
      ]
     },
     "execution_count": 287,
     "metadata": {},
     "output_type": "execute_result"
    }
   ],
   "source": [
    "mae(rf.predict(X_test), y_test)"
   ]
  },
  {
   "cell_type": "markdown",
   "id": "48173904",
   "metadata": {},
   "source": [
    "__Les méthodes que nous avons utilisées ici ont donc été d'une efficacité limitée puique notre meilleur modèle ne nous a permis d'expliquer qu'un peu moins de 25% de la variation observée dans les transactions des clients à partir des données disponibles. En moyenne, nos prédictions montrent un écart absolu de l'ordre de 5 millions par rapport aux valeurs réelles.__\n",
    "\n",
    "__Néanmoins, notre modèle ne montre pas de surapprentissage dans la mesure où le score obtenu sur nos données test est du même ordre que celui observé pendant la phase de validation croisée.__"
   ]
  }
 ],
 "metadata": {
  "kernelspec": {
   "display_name": "Python 3 (ipykernel)",
   "language": "python",
   "name": "python3"
  },
  "language_info": {
   "codemirror_mode": {
    "name": "ipython",
    "version": 3
   },
   "file_extension": ".py",
   "mimetype": "text/x-python",
   "name": "python",
   "nbconvert_exporter": "python",
   "pygments_lexer": "ipython3",
   "version": "3.9.12"
  },
  "toc": {
   "base_numbering": 1,
   "nav_menu": {},
   "number_sections": true,
   "sideBar": false,
   "skip_h1_title": true,
   "title_cell": "Table of Contents",
   "title_sidebar": "Contents",
   "toc_cell": false,
   "toc_position": {},
   "toc_section_display": true,
   "toc_window_display": false
  }
 },
 "nbformat": 4,
 "nbformat_minor": 5
}
