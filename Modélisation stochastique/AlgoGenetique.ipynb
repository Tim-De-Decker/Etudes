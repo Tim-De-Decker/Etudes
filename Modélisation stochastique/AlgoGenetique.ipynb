{
 "cells": [
  {
   "cell_type": "markdown",
   "id": "b3806e86",
   "metadata": {},
   "source": [
    "# Problème d'allocation de ressources avec algorithme génétique"
   ]
  },
  {
   "cell_type": "code",
   "execution_count": 37,
   "id": "038a506a",
   "metadata": {},
   "outputs": [],
   "source": [
    "import numpy as np\n",
    "import numpy.random as rd\n",
    "from numpy.random import rand"
   ]
  },
  {
   "cell_type": "markdown",
   "id": "391763cf",
   "metadata": {},
   "source": [
    "L'enjeu de ce projet est de résoudre un problème classique d'allocation de ressources consistant à répartir $N$ objets dans $M$ emplacements de façon à minimiser une certaine fonction de coût.\n",
    "\n",
    "Notre problème prend la forme d'un graphe comprenant un ensemble de $n$ sommets ($S=\\{s_1,...s_n\\}$) reliés par des arêtes portant chacune une valeur numérique appelée poids. Le graphe considéré est complet, c'est-à-dire que ses sommets sont tous reliés deux à deux : on a donc $\\frac{n(n-1)}{2}$ arêtes et autant de poids.\n",
    "\n",
    "Le graphe peut être représenté par une matrice carré de taille $n$, appelée matrice d'adjacence, dans laquel la valeur située au croisement de la ligne $i$ et de la colonne $j$ correspond au poids de l'arête reliant $s_i$ à $s_j$. Par convention, les valeurs diagonales sont égales à 1.\n",
    "\n",
    "Le poids $P(s_i)$ du sommet $s_i$ est défini comme le produit des composantes de la ligne $i$ de la matrice d'adjacence tandis que la fonction de coût (l'énergie totale) correspond à la somme des poids de tous les sommets du graphe.\n",
    "\n",
    "Le but de l'exercice est de trouver un placement des $n$ premiers nombres premiers dans le graphe qui minimise l'énergie totale pour $n = 4, 5, 6, 7$.\n",
    "\n",
    "Pour ce faire, il est inconcevable d'explorer exhaustivement les $\\frac{n(n-1)}{2}!$ permutations possibles (on dépasse le trillion de possibilités dès $n=6$). On va donc utiliser un algorithme génétique simplifié, avec mutation aléatoire mais sans croisement, pour approcher le minimum de la fonciton de coût en recourant à moins de calculs."
   ]
  },
  {
   "cell_type": "markdown",
   "id": "946ad5bb",
   "metadata": {},
   "source": [
    "## Préparation des fonctions"
   ]
  },
  {
   "cell_type": "code",
   "execution_count": 38,
   "id": "beba0dea",
   "metadata": {},
   "outputs": [
    {
     "data": {
      "text/plain": [
       "[2, 3, 5, 7, 11, 13]"
      ]
     },
     "execution_count": 38,
     "metadata": {},
     "output_type": "execute_result"
    }
   ],
   "source": [
    "# Création d'une fonction générant une liste des premiers nombres premiers pour un graphe de taille n\n",
    "def premiers(n):\n",
    "    # On calcule le nombre de premiers nécessaires pour ensuite obtenir une matrice d'adjacence de taille n\n",
    "    N = (n*(n-1)/2) \n",
    "    L = []\n",
    "    candidat = 2\n",
    "    # On fait en sorte d'obtenir une liste de premiers de taille N\n",
    "    while len(L) < N:\n",
    "        i = 2\n",
    "        premier = True\n",
    "    # On parcourt les entiers naturels en testant la primalité de chacun d'eux\n",
    "        while i <= np.sqrt(candidat) and premier == True:\n",
    "            if candidat % i == 0:\n",
    "                premier = False\n",
    "            i += 1\n",
    "        if premier == True:\n",
    "            L.append(candidat)\n",
    "        candidat += 1\n",
    "    return L\n",
    "\n",
    "# Test\n",
    "premiers(4)"
   ]
  },
  {
   "cell_type": "code",
   "execution_count": 39,
   "id": "da7d5f94",
   "metadata": {},
   "outputs": [
    {
     "data": {
      "text/plain": [
       "[array([ 3, 11,  2,  7,  5, 13]),\n",
       " array([13,  2,  7, 11,  5,  3]),\n",
       " array([ 2, 13, 11,  7,  5,  3]),\n",
       " array([13,  3,  2, 11,  5,  7]),\n",
       " array([ 2, 13,  3,  5, 11,  7])]"
      ]
     },
     "execution_count": 39,
     "metadata": {},
     "output_type": "execute_result"
    }
   ],
   "source": [
    "# Création d'une fonction générant une population initiale de permutations\n",
    "def population(taille, n):\n",
    "    pop = []\n",
    "    for _ in range(taille):\n",
    "        pop.append(rd.permutation(premiers(n)))\n",
    "    return pop\n",
    "\n",
    "# Test\n",
    "pop = population(5, 4)\n",
    "pop"
   ]
  },
  {
   "cell_type": "code",
   "execution_count": 40,
   "id": "973d58cf",
   "metadata": {},
   "outputs": [
    {
     "data": {
      "text/plain": [
       "[array([ 3, 11,  2,  5,  7, 13]),\n",
       " array([13,  5,  7, 11,  2,  3]),\n",
       " array([ 2, 13, 11,  7,  5,  3]),\n",
       " array([13,  3,  7, 11,  2,  5]),\n",
       " array([ 2, 13,  3,  5, 11,  7])]"
      ]
     },
     "execution_count": 40,
     "metadata": {},
     "output_type": "execute_result"
    }
   ],
   "source": [
    "# Création d'une fonction de mutation : chaque élément de chaque individu de la population a une chance d'échanger aléatoirement sa valeur avec un autre.\n",
    "def mutation(population):\n",
    "    for ind in population:\n",
    "        for j in range(len(ind)):\n",
    "            if rand() < 1/len(ind):\n",
    "        # Si l'élément courant passe le test, on choisit une valeur aléatoire dans la liste des nombres premiers / valeurs possibles\n",
    "                mut = rd.choice(ind) \n",
    "        # L'élement qui portait jusqu'alors la valeur sélectionnée prend la valeur de l'élément courant...\n",
    "                ind[np.where(ind == mut)] = ind[j]\n",
    "        # ...et l'élement courant prend sa nouvelle valeur.\n",
    "                ind[j] = mut\n",
    " \n",
    "# Test\n",
    "mutation(pop)\n",
    "pop"
   ]
  },
  {
   "cell_type": "code",
   "execution_count": 41,
   "id": "355a43e9",
   "metadata": {},
   "outputs": [
    {
     "data": {
      "text/plain": [
       "array([[ 1.,  3., 11.,  2.],\n",
       "       [ 3.,  1.,  5.,  7.],\n",
       "       [11.,  5.,  1., 13.],\n",
       "       [ 2.,  7., 13.,  1.]])"
      ]
     },
     "execution_count": 41,
     "metadata": {},
     "output_type": "execute_result"
    }
   ],
   "source": [
    "# Création d'une fonction générant la matrice d'adjacence correspondant à la liste de premiers passée en paramètre\n",
    "def mat_adj(l_premiers):\n",
    "    n = int((1 + np.sqrt(1 + 8 * len(l_premiers)))/ 2) #Permet de retrouver la taille de la matrice à partir de celle de la taille de la liste des premiers\n",
    "    mat = np.zeros((n,n))\n",
    "    ind = 0\n",
    "    for i in range(n-1):\n",
    "        for j in range(i+1,n):\n",
    "            mat[i,j] = l_premiers[ind]\n",
    "            ind += 1\n",
    "    return mat + mat.T + np.eye(n)\n",
    "\n",
    "# Test\n",
    "mat_adj(pop[0])"
   ]
  },
  {
   "cell_type": "code",
   "execution_count": 42,
   "id": "6fa984a0",
   "metadata": {},
   "outputs": [
    {
     "data": {
      "text/plain": [
       "1068.0"
      ]
     },
     "execution_count": 42,
     "metadata": {},
     "output_type": "execute_result"
    }
   ],
   "source": [
    "# Fonction calculant l'énergie d'une permutation donnée : c'est cette énergie qu'on cherchera à minimiser\n",
    "def energie(l_premiers):\n",
    "    M = mat_adj(l_premiers)\n",
    "    n = np.shape(M)[1]\n",
    "    e = 0\n",
    "    # A chaque tour, on prend une des n colonnes, calcule le produit de ses composantes et l'ajoute au total\n",
    "    for i in range(n):\n",
    "        e += np.product(M[:,i])\n",
    "    return e\n",
    "\n",
    "# Test\n",
    "energie(pop[0])"
   ]
  },
  {
   "cell_type": "code",
   "execution_count": 43,
   "id": "629a0169",
   "metadata": {},
   "outputs": [
    {
     "data": {
      "text/plain": [
       "[array([ 3, 11,  7,  5,  2, 13]),\n",
       " array([ 2,  5,  3, 13, 11,  7]),\n",
       " array([ 2,  7,  3, 11, 13,  5]),\n",
       " array([ 3,  5,  7,  2, 11, 13]),\n",
       " array([ 2,  7,  3, 13,  5, 11])]"
      ]
     },
     "execution_count": 43,
     "metadata": {},
     "output_type": "execute_result"
    }
   ],
   "source": [
    "# Création d'une fonction permettant d'obtenir une nouvelle génération de permutations\n",
    "def cycle_de_vie(pop):\n",
    "    mutation(pop)  \n",
    "    # Après avoir muté la population initiale, on calcule l'énergie / le coût lié à chacune des permutations qu'elle contient\n",
    "    fitness = [energie(ind) for ind in pop]\n",
    "    const_norm = np.sum(fitness)\n",
    "    # On calcule la probabilité pour chaque permutation d'être sélectionnée : dans le cadre de notre problème (minimisation), \n",
    "    # celle-ci augmente lorsque l'énergie dépensée est relativement faible et inversement.\n",
    "    prob_selec = [1 - (fit/const_norm) for fit in fitness]\n",
    "    nouvelle_gen = []\n",
    "    for i in range(len(pop)):\n",
    "    # En utilisant les probabilité de sélection individuelles, on sélectionne aléatoirement les permutations qui survivront à la prochaine génération\n",
    "        if rand() < prob_selec[i]:\n",
    "            nouvelle_gen.append(pop[i])\n",
    "    # Pour conserver la taille de la population, on la complète avec un nombre suffisant de permutations aléatoires ; celles-ci permettront d'explorer\n",
    "    # d'autres pistes\n",
    "    for i in range(len(pop) - len(nouvelle_gen)):\n",
    "        nouvelle_gen.append(rd.permutation(premiers((1 + np.sqrt(1 + 8 * len(pop[0])))/ 2)))\n",
    "    return nouvelle_gen\n",
    "\n",
    "# Test\n",
    "pop\n",
    "cycle_de_vie(pop)"
   ]
  },
  {
   "cell_type": "markdown",
   "id": "a337cbef",
   "metadata": {},
   "source": [
    "La fonction précédente constitue le coeur de l'algorithme génétique.\n",
    "\n",
    "On part d'une petite \"population\" de permutations des $n$ premiers nombres premiers, puis on calcule l'énergie obtenue pour chacune d'elle. \n",
    "\n",
    "Le score de __fitness__ ainsi obtenu conditionne la probabilité pour chaque permutation d'être sélectionnée pour la génération suivante : plus l'énergie est basse, plus la probabilité est élevée. \n",
    "\n",
    "Les permutations qui ne sont pas retenues \"mutent\" aléatoirement, c'est-à-dire qu'elles sont remplacées dans la génération suivante par de nouvelles permutations.\n",
    "\n"
   ]
  },
  {
   "cell_type": "markdown",
   "id": "d1dc09b2",
   "metadata": {},
   "source": [
    "## Application de l'algorithme génétique pour n = 4, 5, 6 ou 7"
   ]
  },
  {
   "cell_type": "code",
   "execution_count": 44,
   "id": "2f354121",
   "metadata": {},
   "outputs": [
    {
     "name": "stdout",
     "output_type": "stream",
     "text": [
      "Génération 0  MinEnergie = 828.0  Permutation : [ 5  3 13 11  7  2]\n",
      "Génération 2  MinEnergie = 782.0  Permutation : [ 7  2  5 11  3 13]\n",
      "Génération 4  MinEnergie = 718.0  Permutation : [ 2 11  5  7 13  3]\n",
      "\n",
      "Matrice d'adjacence correspondant à la meilleure permutation:\n",
      " [[ 1.  2. 11.  5.]\n",
      " [ 2.  1.  7. 13.]\n",
      " [11.  7.  1.  3.]\n",
      " [ 5. 13.  3.  1.]]\n"
     ]
    }
   ],
   "source": [
    "# Cas où n = 4\n",
    "# Nombre de premiers nécessaires : 6\n",
    "# Nombre de permutations possibles : 6! = 720\n",
    "\n",
    "n = 4\n",
    "pop = population(10, n)\n",
    "best_permutation = premiers(n)\n",
    "best_fit_ever = energie(best_permutation)\n",
    "\n",
    "for i in range(20):\n",
    "    pop = cycle_de_vie(pop)\n",
    "    fit = [energie(ind) for ind in pop]\n",
    "    best_fit_act = min(fit)\n",
    "    if best_fit_act < best_fit_ever:\n",
    "        best_fit_ever = best_fit_act\n",
    "        best_permutation = pop[fit.index(best_fit_act)].copy()\n",
    "        print('Génération {}  MinEnergie = {}  Permutation : {}'.format(i, best_fit_ever, best_permutation))\n",
    "print(\"\\nMatrice d'adjacence correspondant à la meilleure permutation:\\n {}\".format(mat_adj(best_permutation)))"
   ]
  },
  {
   "cell_type": "code",
   "execution_count": 45,
   "id": "53c36275",
   "metadata": {},
   "outputs": [
    {
     "name": "stdout",
     "output_type": "stream",
     "text": [
      "Génération 0  MinEnergie = 54171.0  Permutation : [19 11  7 17 29 13  2  3  5 23]\n",
      "Génération 7  MinEnergie = 50385.0  Permutation : [ 7 11 23  3 19 17  5  2 13 29]\n",
      "Génération 16  MinEnergie = 49269.0  Permutation : [ 3  5 23 29 19 11  7 17 13  2]\n",
      "Génération 25  MinEnergie = 47039.0  Permutation : [ 5 29 17  3 11  7 13  2 19 23]\n",
      "Génération 27  MinEnergie = 46621.0  Permutation : [ 5 29 17  3 13  7 11  2 19 23]\n",
      "Génération 41  MinEnergie = 45987.0  Permutation : [ 5  2 13 29 23 11  7 19 17  3]\n",
      "Génération 42  MinEnergie = 43035.0  Permutation : [ 5  2 19 29 23 11  7 13 17  3]\n",
      "Génération 311  MinEnergie = 42581.0  Permutation : [17 11  7  5 13  2 23 19  3 29]\n",
      "Génération 1161  MinEnergie = 42207.0  Permutation : [ 5 29  3 23  7 13 17 19  2 11]\n",
      "\n",
      "Matrice d'adjacence correspondant à la meilleure permutation:\n",
      " [[ 1.  5. 29.  3. 23.]\n",
      " [ 5.  1.  7. 13. 17.]\n",
      " [29.  7.  1. 19.  2.]\n",
      " [ 3. 13. 19.  1. 11.]\n",
      " [23. 17.  2. 11.  1.]]\n"
     ]
    }
   ],
   "source": [
    "# Cas où n = 5\n",
    "# Nombre de premiers nécessaires : 10\n",
    "# Nombre de permutations possibles : 10! = 3 628 800\n",
    "\n",
    "n = 5\n",
    "pop = population(10, n)\n",
    "best_permutation = premiers(n)\n",
    "best_fit_ever = energie(best_permutation)\n",
    "\n",
    "for i in range(6000):\n",
    "    pop = cycle_de_vie(pop)\n",
    "    fit = [energie(ind) for ind in pop]\n",
    "    best_fit_act = min(fit)\n",
    "    if best_fit_act < best_fit_ever:\n",
    "        best_fit_ever = best_fit_act\n",
    "        best_permutation = pop[fit.index(best_fit_act)].copy()\n",
    "        print('Génération {}  MinEnergie = {}  Permutation : {}'.format(i, best_fit_ever, best_permutation))\n",
    "print(\"\\nMatrice d'adjacence correspondant à la meilleure permutation:\\n {}\".format(mat_adj(best_permutation)))"
   ]
  },
  {
   "cell_type": "code",
   "execution_count": 46,
   "id": "cb784116",
   "metadata": {},
   "outputs": [
    {
     "name": "stdout",
     "output_type": "stream",
     "text": [
      "Génération 0  MinEnergie = 8404698.0\n",
      "Génération 4  MinEnergie = 6910922.0\n",
      "Génération 28  MinEnergie = 6504632.0\n",
      "Génération 31  MinEnergie = 5343332.0\n",
      "Génération 677  MinEnergie = 5156132.0\n",
      "Génération 11151  MinEnergie = 5130944.0\n",
      "\n",
      "Energie minimale = 5130944.0\n",
      "Permutation optimale estimée :\n",
      " [41 13 17  3 29 43  2 47  5 23 11  7 31 37 19]\n",
      "Matrice d'adjacence correspondante:\n",
      "[[ 1. 41. 13. 17.  3. 29.]\n",
      " [41.  1. 43.  2. 47.  5.]\n",
      " [13. 43.  1. 23. 11.  7.]\n",
      " [17.  2. 23.  1. 31. 37.]\n",
      " [ 3. 47. 11. 31.  1. 19.]\n",
      " [29.  5.  7. 37. 19.  1.]]\n"
     ]
    }
   ],
   "source": [
    "# Cas où n = 6\n",
    "# Nombre de premiers nécessaires : 15\n",
    "# Nombre de permutations possibles : 15! = 1 307 674 368 000\n",
    "\n",
    "n = 6\n",
    "pop = population(10, n)\n",
    "best_permutation = premiers(n)\n",
    "best_fit_ever = energie(best_permutation)\n",
    "\n",
    "for i in range(30000):\n",
    "    pop = cycle_de_vie(pop)\n",
    "    fit = [energie(ind) for ind in pop]\n",
    "    best_fit_act = min(fit)\n",
    "    if best_fit_act < best_fit_ever:\n",
    "        best_fit_ever = best_fit_act\n",
    "        best_permutation = pop[fit.index(best_fit_act)].copy()\n",
    "        print('Génération {}  MinEnergie = {}'.format(i, best_fit_ever))\n",
    "print(\"\\nEnergie minimale = {}\\nPermutation optimale estimée :\\n {}\\nMatrice d'adjacence correspondante:\\n{}\".format(best_fit_ever, best_permutation, mat_adj(best_permutation)))"
   ]
  },
  {
   "cell_type": "code",
   "execution_count": 47,
   "id": "d7f8245d",
   "metadata": {},
   "outputs": [
    {
     "name": "stdout",
     "output_type": "stream",
     "text": [
      "Génération 0  MinEnergie = 1535902163.0\n",
      "Génération 10  MinEnergie = 1274407961.0\n",
      "Génération 254  MinEnergie = 1263368997.0\n",
      "Génération 272  MinEnergie = 1222767199.0\n",
      "Génération 426  MinEnergie = 1194451175.0\n",
      "Génération 729  MinEnergie = 1170408275.0\n",
      "Génération 730  MinEnergie = 1144843807.0\n",
      "Génération 886  MinEnergie = 1116051717.0\n",
      "Génération 4197  MinEnergie = 1114793241.0\n",
      "Génération 4384  MinEnergie = 1069465803.0\n",
      "\n",
      "Energie minimale = 1069465803.0\n",
      "Permutation optimale estimée :\n",
      " [11  7 31 73 37 17  5 43 61 19 59 23 67 41 71  2 53 47 29 13  3]\n",
      "Matrice d'adjacence correspondante:\n",
      "[[ 1. 11.  7. 31. 73. 37. 17.]\n",
      " [11.  1.  5. 43. 61. 19. 59.]\n",
      " [ 7.  5.  1. 23. 67. 41. 71.]\n",
      " [31. 43. 23.  1.  2. 53. 47.]\n",
      " [73. 61. 67.  2.  1. 29. 13.]\n",
      " [37. 19. 41. 53. 29.  1.  3.]\n",
      " [17. 59. 71. 47. 13.  3.  1.]]\n"
     ]
    }
   ],
   "source": [
    "# Cas où n = 7\n",
    "# Nombre de premiers nécessaires : 21\n",
    "# Nombre de permutations possibles : 21! = 51 090 942 171 709 440 000\n",
    "\n",
    "n = 7\n",
    "pop = population(10, n)\n",
    "best_permutation = premiers(n)\n",
    "best_fit_ever = energie(best_permutation)\n",
    "\n",
    "for i in range(50000):\n",
    "    pop = cycle_de_vie(pop)\n",
    "    fit = [energie(ind) for ind in pop]\n",
    "    best_fit_act = min(fit)\n",
    "    if best_fit_act < best_fit_ever:\n",
    "        best_fit_ever = best_fit_act\n",
    "        best_permutation = pop[fit.index(best_fit_act)].copy()\n",
    "        print('Génération {}  MinEnergie = {}'.format(i, best_fit_ever))\n",
    "print(\"\\nEnergie minimale = {}\\nPermutation optimale estimée :\\n {}\\nMatrice d'adjacence correspondante:\\n{}\".format(best_fit_ever, best_permutation, mat_adj(best_permutation)))"
   ]
  }
 ],
 "metadata": {
  "kernelspec": {
   "display_name": "Python 3 (ipykernel)",
   "language": "python",
   "name": "python3"
  },
  "language_info": {
   "codemirror_mode": {
    "name": "ipython",
    "version": 3
   },
   "file_extension": ".py",
   "mimetype": "text/x-python",
   "name": "python",
   "nbconvert_exporter": "python",
   "pygments_lexer": "ipython3",
   "version": "3.9.12"
  },
  "toc": {
   "base_numbering": 1,
   "nav_menu": {},
   "number_sections": true,
   "sideBar": false,
   "skip_h1_title": true,
   "title_cell": "Table of Contents",
   "title_sidebar": "Contents",
   "toc_cell": false,
   "toc_position": {},
   "toc_section_display": true,
   "toc_window_display": false
  }
 },
 "nbformat": 4,
 "nbformat_minor": 5
}
