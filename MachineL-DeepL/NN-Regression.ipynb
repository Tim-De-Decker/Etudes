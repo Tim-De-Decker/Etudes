{
 "cells": [
  {
   "cell_type": "code",
   "execution_count": 30,
   "id": "90e7d2f2",
   "metadata": {},
   "outputs": [],
   "source": [
    "import numpy as np\n",
    "import pandas as pd\n",
    "import matplotlib.pyplot as plt\n",
    "from tensorflow import keras\n",
    "from keras import layers\n",
    "from keras.callbacks import EarlyStopping"
   ]
  },
  {
   "cell_type": "markdown",
   "id": "ff51e7b2",
   "metadata": {},
   "source": [
    "## Préparation des données"
   ]
  },
  {
   "cell_type": "markdown",
   "id": "d6acddf1",
   "metadata": {},
   "source": [
    "Le fichier _simulations.csv_ contient 10000 observations de trois variables d'entrée (trois premières colonnes) et des huit sorties générées par ces dernières via un modèle complexe (huit dernières colonnes).\n",
    "\n",
    "Le but de l'exercice est d'ajuster au mieux un réseau de neurones afin de retrouver les valeurs d'entrée à partir des valeurs de sortie."
   ]
  },
  {
   "cell_type": "code",
   "execution_count": 14,
   "id": "41580359",
   "metadata": {},
   "outputs": [
    {
     "data": {
      "text/html": [
       "<div>\n",
       "<style scoped>\n",
       "    .dataframe tbody tr th:only-of-type {\n",
       "        vertical-align: middle;\n",
       "    }\n",
       "\n",
       "    .dataframe tbody tr th {\n",
       "        vertical-align: top;\n",
       "    }\n",
       "\n",
       "    .dataframe thead th {\n",
       "        text-align: right;\n",
       "    }\n",
       "</style>\n",
       "<table border=\"1\" class=\"dataframe\">\n",
       "  <thead>\n",
       "    <tr style=\"text-align: right;\">\n",
       "      <th></th>\n",
       "      <th>0</th>\n",
       "      <th>1</th>\n",
       "      <th>2</th>\n",
       "      <th>3</th>\n",
       "      <th>4</th>\n",
       "      <th>5</th>\n",
       "      <th>6</th>\n",
       "      <th>7</th>\n",
       "      <th>8</th>\n",
       "      <th>9</th>\n",
       "      <th>10</th>\n",
       "      <th>11</th>\n",
       "      <th>12</th>\n",
       "      <th>13</th>\n",
       "      <th>14</th>\n",
       "      <th>15</th>\n",
       "    </tr>\n",
       "  </thead>\n",
       "  <tbody>\n",
       "    <tr>\n",
       "      <th>0</th>\n",
       "      <td>0.120964</td>\n",
       "      <td>0.035158</td>\n",
       "      <td>0.618706</td>\n",
       "      <td>0.0</td>\n",
       "      <td>0.0</td>\n",
       "      <td>0.0</td>\n",
       "      <td>0.0</td>\n",
       "      <td>0.0</td>\n",
       "      <td>0.134850</td>\n",
       "      <td>0.095695</td>\n",
       "      <td>52.411846</td>\n",
       "      <td>46.665506</td>\n",
       "      <td>0.456857</td>\n",
       "      <td>0.498308</td>\n",
       "      <td>0.462544</td>\n",
       "      <td>0.569043</td>\n",
       "    </tr>\n",
       "    <tr>\n",
       "      <th>1</th>\n",
       "      <td>0.157933</td>\n",
       "      <td>0.077691</td>\n",
       "      <td>0.614342</td>\n",
       "      <td>0.0</td>\n",
       "      <td>0.0</td>\n",
       "      <td>0.0</td>\n",
       "      <td>0.0</td>\n",
       "      <td>0.0</td>\n",
       "      <td>0.174525</td>\n",
       "      <td>0.118662</td>\n",
       "      <td>55.276823</td>\n",
       "      <td>47.986155</td>\n",
       "      <td>0.467475</td>\n",
       "      <td>0.473695</td>\n",
       "      <td>0.324767</td>\n",
       "      <td>0.457710</td>\n",
       "    </tr>\n",
       "    <tr>\n",
       "      <th>2</th>\n",
       "      <td>0.104400</td>\n",
       "      <td>0.064752</td>\n",
       "      <td>0.526321</td>\n",
       "      <td>0.0</td>\n",
       "      <td>0.0</td>\n",
       "      <td>0.0</td>\n",
       "      <td>0.0</td>\n",
       "      <td>0.0</td>\n",
       "      <td>0.130938</td>\n",
       "      <td>0.087290</td>\n",
       "      <td>57.602196</td>\n",
       "      <td>49.147401</td>\n",
       "      <td>0.583165</td>\n",
       "      <td>0.383176</td>\n",
       "      <td>0.428328</td>\n",
       "      <td>0.528848</td>\n",
       "    </tr>\n",
       "  </tbody>\n",
       "</table>\n",
       "</div>"
      ],
      "text/plain": [
       "         0         1         2    3    4    5    6    7         8         9   \\\n",
       "0  0.120964  0.035158  0.618706  0.0  0.0  0.0  0.0  0.0  0.134850  0.095695   \n",
       "1  0.157933  0.077691  0.614342  0.0  0.0  0.0  0.0  0.0  0.174525  0.118662   \n",
       "2  0.104400  0.064752  0.526321  0.0  0.0  0.0  0.0  0.0  0.130938  0.087290   \n",
       "\n",
       "          10         11        12        13        14        15  \n",
       "0  52.411846  46.665506  0.456857  0.498308  0.462544  0.569043  \n",
       "1  55.276823  47.986155  0.467475  0.473695  0.324767  0.457710  \n",
       "2  57.602196  49.147401  0.583165  0.383176  0.428328  0.528848  "
      ]
     },
     "execution_count": 14,
     "metadata": {},
     "output_type": "execute_result"
    }
   ],
   "source": [
    "data = pd.read_csv(\"simulations.csv\", header=None)\n",
    "data.head(3)"
   ]
  },
  {
   "cell_type": "code",
   "execution_count": 15,
   "id": "78a91182",
   "metadata": {},
   "outputs": [
    {
     "data": {
      "text/html": [
       "<div>\n",
       "<style scoped>\n",
       "    .dataframe tbody tr th:only-of-type {\n",
       "        vertical-align: middle;\n",
       "    }\n",
       "\n",
       "    .dataframe tbody tr th {\n",
       "        vertical-align: top;\n",
       "    }\n",
       "\n",
       "    .dataframe thead th {\n",
       "        text-align: right;\n",
       "    }\n",
       "</style>\n",
       "<table border=\"1\" class=\"dataframe\">\n",
       "  <thead>\n",
       "    <tr style=\"text-align: right;\">\n",
       "      <th></th>\n",
       "      <th>8</th>\n",
       "      <th>9</th>\n",
       "      <th>10</th>\n",
       "      <th>11</th>\n",
       "      <th>12</th>\n",
       "      <th>13</th>\n",
       "      <th>14</th>\n",
       "      <th>15</th>\n",
       "    </tr>\n",
       "  </thead>\n",
       "  <tbody>\n",
       "    <tr>\n",
       "      <th>0</th>\n",
       "      <td>0.134850</td>\n",
       "      <td>0.095695</td>\n",
       "      <td>52.411846</td>\n",
       "      <td>46.665506</td>\n",
       "      <td>0.456857</td>\n",
       "      <td>0.498308</td>\n",
       "      <td>0.462544</td>\n",
       "      <td>0.569043</td>\n",
       "    </tr>\n",
       "    <tr>\n",
       "      <th>1</th>\n",
       "      <td>0.174525</td>\n",
       "      <td>0.118662</td>\n",
       "      <td>55.276823</td>\n",
       "      <td>47.986155</td>\n",
       "      <td>0.467475</td>\n",
       "      <td>0.473695</td>\n",
       "      <td>0.324767</td>\n",
       "      <td>0.457710</td>\n",
       "    </tr>\n",
       "    <tr>\n",
       "      <th>2</th>\n",
       "      <td>0.130938</td>\n",
       "      <td>0.087290</td>\n",
       "      <td>57.602196</td>\n",
       "      <td>49.147401</td>\n",
       "      <td>0.583165</td>\n",
       "      <td>0.383176</td>\n",
       "      <td>0.428328</td>\n",
       "      <td>0.528848</td>\n",
       "    </tr>\n",
       "  </tbody>\n",
       "</table>\n",
       "</div>"
      ],
      "text/plain": [
       "         8         9          10         11        12        13        14  \\\n",
       "0  0.134850  0.095695  52.411846  46.665506  0.456857  0.498308  0.462544   \n",
       "1  0.174525  0.118662  55.276823  47.986155  0.467475  0.473695  0.324767   \n",
       "2  0.130938  0.087290  57.602196  49.147401  0.583165  0.383176  0.428328   \n",
       "\n",
       "         15  \n",
       "0  0.569043  \n",
       "1  0.457710  \n",
       "2  0.528848  "
      ]
     },
     "execution_count": 15,
     "metadata": {},
     "output_type": "execute_result"
    }
   ],
   "source": [
    "# Les huit dernières colonnes correspondent à l'output\n",
    "sortie = data.iloc[:, 8:]\n",
    "sortie.head(3)"
   ]
  },
  {
   "cell_type": "code",
   "execution_count": 16,
   "id": "632cafbe",
   "metadata": {},
   "outputs": [
    {
     "data": {
      "text/html": [
       "<div>\n",
       "<style scoped>\n",
       "    .dataframe tbody tr th:only-of-type {\n",
       "        vertical-align: middle;\n",
       "    }\n",
       "\n",
       "    .dataframe tbody tr th {\n",
       "        vertical-align: top;\n",
       "    }\n",
       "\n",
       "    .dataframe thead th {\n",
       "        text-align: right;\n",
       "    }\n",
       "</style>\n",
       "<table border=\"1\" class=\"dataframe\">\n",
       "  <thead>\n",
       "    <tr style=\"text-align: right;\">\n",
       "      <th></th>\n",
       "      <th>0</th>\n",
       "      <th>1</th>\n",
       "      <th>2</th>\n",
       "    </tr>\n",
       "  </thead>\n",
       "  <tbody>\n",
       "    <tr>\n",
       "      <th>0</th>\n",
       "      <td>0.120964</td>\n",
       "      <td>0.035158</td>\n",
       "      <td>0.618706</td>\n",
       "    </tr>\n",
       "    <tr>\n",
       "      <th>1</th>\n",
       "      <td>0.157933</td>\n",
       "      <td>0.077691</td>\n",
       "      <td>0.614342</td>\n",
       "    </tr>\n",
       "    <tr>\n",
       "      <th>2</th>\n",
       "      <td>0.104400</td>\n",
       "      <td>0.064752</td>\n",
       "      <td>0.526321</td>\n",
       "    </tr>\n",
       "  </tbody>\n",
       "</table>\n",
       "</div>"
      ],
      "text/plain": [
       "          0         1         2\n",
       "0  0.120964  0.035158  0.618706\n",
       "1  0.157933  0.077691  0.614342\n",
       "2  0.104400  0.064752  0.526321"
      ]
     },
     "execution_count": 16,
     "metadata": {},
     "output_type": "execute_result"
    }
   ],
   "source": [
    "# Les trois premières colonnes correspondent à l'input\n",
    "entree = data.iloc[:, :3]\n",
    "entree.head(3)"
   ]
  },
  {
   "cell_type": "markdown",
   "id": "28b3f086",
   "metadata": {},
   "source": [
    "On sélectionne les 8000 premières obervations pour l'apprentissage et les 2000 restantes pour tester notre modèle."
   ]
  },
  {
   "cell_type": "code",
   "execution_count": 17,
   "id": "0bea8936",
   "metadata": {},
   "outputs": [],
   "source": [
    "X_train, X_test = sortie.iloc[:8000, :].to_numpy(), sortie.iloc[8000:, :].to_numpy()\n",
    "y_train, y_test = entree.iloc[:8000, :].to_numpy(), entree.iloc[8000:, :].to_numpy()"
   ]
  },
  {
   "cell_type": "markdown",
   "id": "8199202a",
   "metadata": {},
   "source": [
    "## Recherche d'une architecture de réseau optimale sous Keras"
   ]
  },
  {
   "cell_type": "markdown",
   "id": "4c872936",
   "metadata": {},
   "source": [
    "Après de nombreux essais, nous avons opté pour un réseau relativement simple dans sa structure, contenant 8 couches cachées de 100 neurones chacune.\n",
    "Le nombre maximal d'epochs est fixé à 500 pour être sûr obtenir de bons résultats sans rallonger excessivement le temps de calcul, dans la mesure où nous avons opté pour un mini-batch. \n",
    "\n",
    "Dans cette version, on a ajouté un callback `EarlyStopping()` qui interrompt l'ajustement du réseau lorsque la MAPE ne s'est pas améliorée pendant 20 epochs consécutives : on raccourcit ainsi le temps nécessaire à la réexécution sans trop nuire au résultat."
   ]
  },
  {
   "cell_type": "code",
   "execution_count": 33,
   "id": "d4227939",
   "metadata": {},
   "outputs": [],
   "source": [
    "# On se laisse la possibilité de tester différents taux d'apprentissage en explicitant l'algorithme d'optimisation.\n",
    "opti = keras.optimizers.Adam(learning_rate=0.0001)\n",
    "\n",
    "# Le réseau contient 8 couches cachées de 100 neurones chacune.\n",
    "# On recourt à la fonction relu pour l'activation des couches cachées et à l'identité pour la couche de sortie\n",
    "reseau = keras.Sequential([\n",
    "    layers.Input(shape = (8,)),\n",
    "    # Couches cachées\n",
    "    layers.Dense(100, kernel_initializer = \"normal\", activation = \"relu\"),\n",
    "    layers.Dense(100, kernel_initializer = \"normal\", activation = \"relu\"),\n",
    "    layers.Dense(100, kernel_initializer = \"normal\", activation = \"relu\"),\n",
    "    layers.Dense(100, kernel_initializer = \"normal\", activation = \"relu\"),\n",
    "    layers.Dense(100, kernel_initializer = \"normal\", activation = \"relu\"),\n",
    "    layers.Dense(100, kernel_initializer = \"normal\", activation = \"relu\"),\n",
    "    layers.Dense(100, kernel_initializer = \"normal\", activation = \"relu\"),\n",
    "    layers.Dense(100, kernel_initializer = \"normal\", activation = \"relu\"),\n",
    "    # Couche de sortie\n",
    "    layers.Dense(3, kernel_initializer = \"normal\", activation = \"linear\"),\n",
    "])\n",
    "\n",
    "# On définit ici l'erreur moyenne quadratique classique comme fonction de perte.\n",
    "# Le MAPE est indiqué comme métrique pour mesurer la qualité de l'estimation et vérifier l'absence de sur-apprentissage grâce aux données test.\n",
    "reseau.compile(loss = 'mean_squared_error',\n",
    "               optimizer = opti,\n",
    "               metrics = 'mean_absolute_percentage_error')\n",
    "\n",
    "evol = reseau.fit(X_train, y_train,\n",
    "                  epochs = 500,\n",
    "                  batch_size = 32,\n",
    "                  validation_data = (X_test, y_test),\n",
    "                  verbose = 0,\n",
    "                  callbacks = EarlyStopping(monitor = 'mean_absolute_percentage_error',\n",
    "                                            patience = 20,\n",
    "                                            restore_best_weights = True)\n",
    "                 )"
   ]
  },
  {
   "cell_type": "code",
   "execution_count": 34,
   "id": "5a67a44e",
   "metadata": {},
   "outputs": [
    {
     "data": {
      "image/png": "[encoded data removed]",
      "text/plain": [
       "<Figure size 720x576 with 1 Axes>"
      ]
     },
     "metadata": {
      "needs_background": "light"
     },
     "output_type": "display_data"
    },
    {
     "name": "stdout",
     "output_type": "stream",
     "text": [
      "\n",
      "MSE à la dernière itération : 5.7259319873992354e-05\n",
      "\n",
      "MAPE à la dernière itération : 3.11 %\n"
     ]
    }
   ],
   "source": [
    "plt.figure(figsize=(10,8))\n",
    "plt.plot(evol.history['mean_absolute_percentage_error'], label='MAPE train')\n",
    "plt.plot(evol.history['val_mean_absolute_percentage_error'], label='MAPE test')\n",
    "plt.legend()\n",
    "plt.show()\n",
    "\n",
    "mse, pmea = reseau.evaluate(X_test, y_test, verbose=0)\n",
    "print(f'\\nMSE à la dernière itération : {mse}\\n\\nMAPE à la dernière itération : {round(pmea, 2)} %')"
   ]
  },
  {
   "cell_type": "markdown",
   "id": "a9c727fb",
   "metadata": {},
   "source": [
    "__Lors des 100 premières itérations, la MAPE décroît relativement vite pour atteindre environ 5%.__\n",
    "\n",
    "__Les 400 itérations suivantes font doucement chuter la métrique vers 2-3%, ce qui correspond à notre meilleur score.__"
   ]
  }
 ],
 "metadata": {
  "kernelspec": {
   "display_name": "Python 3 (ipykernel)",
   "language": "python",
   "name": "python3"
  },
  "language_info": {
   "codemirror_mode": {
    "name": "ipython",
    "version": 3
   },
   "file_extension": ".py",
   "mimetype": "text/x-python",
   "name": "python",
   "nbconvert_exporter": "python",
   "pygments_lexer": "ipython3",
   "version": "3.9.12"
  },
  "toc": {
   "base_numbering": 1,
   "nav_menu": {},
   "number_sections": true,
   "sideBar": false,
   "skip_h1_title": true,
   "title_cell": "Table of Contents",
   "title_sidebar": "Contents",
   "toc_cell": false,
   "toc_position": {},
   "toc_section_display": true,
   "toc_window_display": false
  }
 },
 "nbformat": 4,
 "nbformat_minor": 5
}
